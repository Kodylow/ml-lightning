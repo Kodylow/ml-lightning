{
 "cells": [
  {
   "cell_type": "code",
   "execution_count": 1,
   "metadata": {},
   "outputs": [
    {
     "data": {
      "text/html": [
       "<div>\n",
       "<style scoped>\n",
       "    .dataframe tbody tr th:only-of-type {\n",
       "        vertical-align: middle;\n",
       "    }\n",
       "\n",
       "    .dataframe tbody tr th {\n",
       "        vertical-align: top;\n",
       "    }\n",
       "\n",
       "    .dataframe thead th {\n",
       "        text-align: right;\n",
       "    }\n",
       "</style>\n",
       "<table border=\"1\" class=\"dataframe\">\n",
       "  <thead>\n",
       "    <tr style=\"text-align: right;\">\n",
       "      <th></th>\n",
       "      <th>path_failure</th>\n",
       "      <th>path_amount</th>\n",
       "      <th>hop_0_destination_pubkey</th>\n",
       "      <th>hop_0_source_pubkey</th>\n",
       "      <th>hop_0_is_final_hop</th>\n",
       "      <th>hop_0_scid</th>\n",
       "      <th>hop_1_destination_pubkey</th>\n",
       "      <th>hop_1_source_pubkey</th>\n",
       "      <th>hop_1_is_final_hop</th>\n",
       "      <th>hop_1_scid</th>\n",
       "      <th>...</th>\n",
       "      <th>hop_10_is_final_hop</th>\n",
       "      <th>hop_10_scid</th>\n",
       "      <th>hop_11_destination_pubkey</th>\n",
       "      <th>hop_11_source_pubkey</th>\n",
       "      <th>hop_11_is_final_hop</th>\n",
       "      <th>hop_11_scid</th>\n",
       "      <th>hop_12_destination_pubkey</th>\n",
       "      <th>hop_12_source_pubkey</th>\n",
       "      <th>hop_12_is_final_hop</th>\n",
       "      <th>hop_12_scid</th>\n",
       "    </tr>\n",
       "  </thead>\n",
       "  <tbody>\n",
       "    <tr>\n",
       "      <th>0</th>\n",
       "      <td>1</td>\n",
       "      <td>50000000</td>\n",
       "      <td>2</td>\n",
       "      <td>0</td>\n",
       "      <td>0</td>\n",
       "      <td>1</td>\n",
       "      <td>1</td>\n",
       "      <td>2</td>\n",
       "      <td>1</td>\n",
       "      <td>0</td>\n",
       "      <td>...</td>\n",
       "      <td>-1</td>\n",
       "      <td>-1</td>\n",
       "      <td>-1</td>\n",
       "      <td>-1</td>\n",
       "      <td>-1</td>\n",
       "      <td>-1</td>\n",
       "      <td>-1</td>\n",
       "      <td>-1</td>\n",
       "      <td>-1</td>\n",
       "      <td>-1</td>\n",
       "    </tr>\n",
       "    <tr>\n",
       "      <th>1</th>\n",
       "      <td>1</td>\n",
       "      <td>50000000</td>\n",
       "      <td>3</td>\n",
       "      <td>0</td>\n",
       "      <td>0</td>\n",
       "      <td>2</td>\n",
       "      <td>4</td>\n",
       "      <td>3</td>\n",
       "      <td>0</td>\n",
       "      <td>3</td>\n",
       "      <td>...</td>\n",
       "      <td>-1</td>\n",
       "      <td>-1</td>\n",
       "      <td>-1</td>\n",
       "      <td>-1</td>\n",
       "      <td>-1</td>\n",
       "      <td>-1</td>\n",
       "      <td>-1</td>\n",
       "      <td>-1</td>\n",
       "      <td>-1</td>\n",
       "      <td>-1</td>\n",
       "    </tr>\n",
       "    <tr>\n",
       "      <th>2</th>\n",
       "      <td>1</td>\n",
       "      <td>50000000</td>\n",
       "      <td>2</td>\n",
       "      <td>0</td>\n",
       "      <td>0</td>\n",
       "      <td>1</td>\n",
       "      <td>6</td>\n",
       "      <td>2</td>\n",
       "      <td>0</td>\n",
       "      <td>6</td>\n",
       "      <td>...</td>\n",
       "      <td>-1</td>\n",
       "      <td>-1</td>\n",
       "      <td>-1</td>\n",
       "      <td>-1</td>\n",
       "      <td>-1</td>\n",
       "      <td>-1</td>\n",
       "      <td>-1</td>\n",
       "      <td>-1</td>\n",
       "      <td>-1</td>\n",
       "      <td>-1</td>\n",
       "    </tr>\n",
       "    <tr>\n",
       "      <th>3</th>\n",
       "      <td>1</td>\n",
       "      <td>50000000</td>\n",
       "      <td>3</td>\n",
       "      <td>0</td>\n",
       "      <td>0</td>\n",
       "      <td>2</td>\n",
       "      <td>7</td>\n",
       "      <td>3</td>\n",
       "      <td>0</td>\n",
       "      <td>8</td>\n",
       "      <td>...</td>\n",
       "      <td>-1</td>\n",
       "      <td>-1</td>\n",
       "      <td>-1</td>\n",
       "      <td>-1</td>\n",
       "      <td>-1</td>\n",
       "      <td>-1</td>\n",
       "      <td>-1</td>\n",
       "      <td>-1</td>\n",
       "      <td>-1</td>\n",
       "      <td>-1</td>\n",
       "    </tr>\n",
       "    <tr>\n",
       "      <th>4</th>\n",
       "      <td>1</td>\n",
       "      <td>50000000</td>\n",
       "      <td>3</td>\n",
       "      <td>0</td>\n",
       "      <td>0</td>\n",
       "      <td>2</td>\n",
       "      <td>8</td>\n",
       "      <td>3</td>\n",
       "      <td>0</td>\n",
       "      <td>10</td>\n",
       "      <td>...</td>\n",
       "      <td>-1</td>\n",
       "      <td>-1</td>\n",
       "      <td>-1</td>\n",
       "      <td>-1</td>\n",
       "      <td>-1</td>\n",
       "      <td>-1</td>\n",
       "      <td>-1</td>\n",
       "      <td>-1</td>\n",
       "      <td>-1</td>\n",
       "      <td>-1</td>\n",
       "    </tr>\n",
       "  </tbody>\n",
       "</table>\n",
       "<p>5 rows × 54 columns</p>\n",
       "</div>"
      ],
      "text/plain": [
       "   path_failure  path_amount  hop_0_destination_pubkey  hop_0_source_pubkey  \\\n",
       "0             1     50000000                         2                    0   \n",
       "1             1     50000000                         3                    0   \n",
       "2             1     50000000                         2                    0   \n",
       "3             1     50000000                         3                    0   \n",
       "4             1     50000000                         3                    0   \n",
       "\n",
       "   hop_0_is_final_hop  hop_0_scid  hop_1_destination_pubkey  \\\n",
       "0                   0           1                         1   \n",
       "1                   0           2                         4   \n",
       "2                   0           1                         6   \n",
       "3                   0           2                         7   \n",
       "4                   0           2                         8   \n",
       "\n",
       "   hop_1_source_pubkey  hop_1_is_final_hop  hop_1_scid  ...  \\\n",
       "0                    2                   1           0  ...   \n",
       "1                    3                   0           3  ...   \n",
       "2                    2                   0           6  ...   \n",
       "3                    3                   0           8  ...   \n",
       "4                    3                   0          10  ...   \n",
       "\n",
       "   hop_10_is_final_hop  hop_10_scid  hop_11_destination_pubkey  \\\n",
       "0                   -1           -1                         -1   \n",
       "1                   -1           -1                         -1   \n",
       "2                   -1           -1                         -1   \n",
       "3                   -1           -1                         -1   \n",
       "4                   -1           -1                         -1   \n",
       "\n",
       "   hop_11_source_pubkey  hop_11_is_final_hop  hop_11_scid  \\\n",
       "0                    -1                   -1           -1   \n",
       "1                    -1                   -1           -1   \n",
       "2                    -1                   -1           -1   \n",
       "3                    -1                   -1           -1   \n",
       "4                    -1                   -1           -1   \n",
       "\n",
       "   hop_12_destination_pubkey  hop_12_source_pubkey  hop_12_is_final_hop  \\\n",
       "0                         -1                    -1                   -1   \n",
       "1                         -1                    -1                   -1   \n",
       "2                         -1                    -1                   -1   \n",
       "3                         -1                    -1                   -1   \n",
       "4                         -1                    -1                   -1   \n",
       "\n",
       "   hop_12_scid  \n",
       "0           -1  \n",
       "1           -1  \n",
       "2           -1  \n",
       "3           -1  \n",
       "4           -1  \n",
       "\n",
       "[5 rows x 54 columns]"
      ]
     },
     "execution_count": 1,
     "metadata": {},
     "output_type": "execute_result"
    }
   ],
   "source": [
    "import pandas as pd\n",
    "\n",
    "data = pd.read_csv('./cleaned_data/final.csv', index_col=0)\n",
    "data.head()\n"
   ]
  },
  {
   "cell_type": "code",
   "execution_count": 2,
   "metadata": {},
   "outputs": [],
   "source": [
    "# Read the data back from the CSV files\n",
    "features_train = pd.read_csv('cleaned_data/features_train.csv', index_col=0)\n",
    "target_train = pd.read_csv('cleaned_data/target_train.csv', index_col=0)\n",
    "features_test = pd.read_csv('cleaned_data/features_test.csv', index_col=0)\n",
    "target_test = pd.read_csv('cleaned_data/target_test.csv', index_col=0)\n",
    "features_val = pd.read_csv('cleaned_data/features_val.csv', index_col=0)\n",
    "target_val = pd.read_csv('cleaned_data/target_val.csv', index_col=0)\n"
   ]
  },
  {
   "cell_type": "code",
   "execution_count": 7,
   "metadata": {},
   "outputs": [],
   "source": [
    "import torch\n",
    "from torch import nn\n",
    "import pytorch_lightning as pl\n",
    "\n",
    "class FeedForwardNN(pl.LightningModule):\n",
    "    def __init__(self, input_dim, output_dim):\n",
    "        super(FeedForwardNN, self).__init__()\n",
    "        self.layer1 = nn.Sequential(\n",
    "            nn.Linear(input_dim, 64),\n",
    "            nn.BatchNorm1d(64),\n",
    "            nn.ReLU(),\n",
    "            nn.Dropout(0.2)\n",
    "        )\n",
    "        self.layer2 = nn.Sequential(\n",
    "            nn.Linear(64, 32),\n",
    "            nn.BatchNorm1d(32),\n",
    "            nn.ReLU(),\n",
    "            nn.Dropout(0.2)\n",
    "        )\n",
    "        self.layer3 = nn.Linear(32, output_dim)\n",
    "        self.loss = nn.BCEWithLogitsLoss()\n",
    "        self.val_losses = []\n",
    "\n",
    "    def forward(self, x):\n",
    "        x = self.layer1(x)\n",
    "        x = self.layer2(x)\n",
    "        return self.layer3(x)\n",
    "\n",
    "    def training_step(self, batch, batch_idx):\n",
    "        x, y = batch\n",
    "        logits = self(x)\n",
    "        loss = self.loss(logits, y)\n",
    "        self.log('train_loss', loss)\n",
    "        return loss\n",
    "\n",
    "    def validation_step(self, batch, batch_idx):\n",
    "        x, y = batch\n",
    "        logits = self(x)\n",
    "        loss = self.loss(logits, y)\n",
    "        self.log('val_loss', loss)\n",
    "        self.val_losses.append(loss)\n",
    "\n",
    "    def on_validation_epoch_end(self):\n",
    "        avg_loss = torch.stack(self.val_losses).mean()\n",
    "        self.log('avg_val_loss', avg_loss)\n",
    "        self.val_losses = []  # reset for the next epoch\n",
    "\n",
    "    def configure_optimizers(self):\n",
    "        return torch.optim.Adam(self.parameters(), lr=0.001)\n"
   ]
  },
  {
   "cell_type": "code",
   "execution_count": 8,
   "metadata": {},
   "outputs": [
    {
     "name": "stderr",
     "output_type": "stream",
     "text": [
      "GPU available: True (cuda), used: True\n",
      "TPU available: False, using: 0 TPU cores\n",
      "IPU available: False, using: 0 IPUs\n",
      "HPU available: False, using: 0 HPUs\n",
      "LOCAL_RANK: 0 - CUDA_VISIBLE_DEVICES: [0]\n",
      "\n",
      "  | Name   | Type              | Params\n",
      "---------------------------------------------\n",
      "0 | layer1 | Sequential        | 3.6 K \n",
      "1 | layer2 | Sequential        | 2.1 K \n",
      "2 | layer3 | Linear            | 33    \n",
      "3 | loss   | BCEWithLogitsLoss | 0     \n",
      "---------------------------------------------\n",
      "5.8 K     Trainable params\n",
      "0         Non-trainable params\n",
      "5.8 K     Total params\n",
      "0.023     Total estimated model params size (MB)\n"
     ]
    },
    {
     "data": {
      "application/vnd.jupyter.widget-view+json": {
       "model_id": "76eb842dd8f044ffbe2b091bbc7515c6",
       "version_major": 2,
       "version_minor": 0
      },
      "text/plain": [
       "Sanity Checking: |          | 0/? [00:00<?, ?it/s]"
      ]
     },
     "metadata": {},
     "output_type": "display_data"
    },
    {
     "data": {
      "application/vnd.jupyter.widget-view+json": {
       "model_id": "ae7098ae29d446978441023fd92a1983",
       "version_major": 2,
       "version_minor": 0
      },
      "text/plain": [
       "Training: |          | 0/? [00:00<?, ?it/s]"
      ]
     },
     "metadata": {},
     "output_type": "display_data"
    },
    {
     "data": {
      "application/vnd.jupyter.widget-view+json": {
       "model_id": "5abd303c02774548b7a18c498fd7934a",
       "version_major": 2,
       "version_minor": 0
      },
      "text/plain": [
       "Validation: |          | 0/? [00:00<?, ?it/s]"
      ]
     },
     "metadata": {},
     "output_type": "display_data"
    },
    {
     "data": {
      "application/vnd.jupyter.widget-view+json": {
       "model_id": "9071289e02cc4ee5b95a5303d56f61b3",
       "version_major": 2,
       "version_minor": 0
      },
      "text/plain": [
       "Validation: |          | 0/? [00:00<?, ?it/s]"
      ]
     },
     "metadata": {},
     "output_type": "display_data"
    },
    {
     "data": {
      "application/vnd.jupyter.widget-view+json": {
       "model_id": "a34b31d18cce4b98bbd2c1c13fdeb881",
       "version_major": 2,
       "version_minor": 0
      },
      "text/plain": [
       "Validation: |          | 0/? [00:00<?, ?it/s]"
      ]
     },
     "metadata": {},
     "output_type": "display_data"
    },
    {
     "data": {
      "application/vnd.jupyter.widget-view+json": {
       "model_id": "7853d5a495b444f8b610e4c1a60bf7ab",
       "version_major": 2,
       "version_minor": 0
      },
      "text/plain": [
       "Validation: |          | 0/? [00:00<?, ?it/s]"
      ]
     },
     "metadata": {},
     "output_type": "display_data"
    },
    {
     "data": {
      "application/vnd.jupyter.widget-view+json": {
       "model_id": "287fb273c4f246eab1a5388aa54c7f82",
       "version_major": 2,
       "version_minor": 0
      },
      "text/plain": [
       "Validation: |          | 0/? [00:00<?, ?it/s]"
      ]
     },
     "metadata": {},
     "output_type": "display_data"
    },
    {
     "data": {
      "application/vnd.jupyter.widget-view+json": {
       "model_id": "eae023da76ac476cadfd63a08aa7f823",
       "version_major": 2,
       "version_minor": 0
      },
      "text/plain": [
       "Validation: |          | 0/? [00:00<?, ?it/s]"
      ]
     },
     "metadata": {},
     "output_type": "display_data"
    },
    {
     "data": {
      "application/vnd.jupyter.widget-view+json": {
       "model_id": "e58ec4e0dfe24826b6c594809bbb4ce4",
       "version_major": 2,
       "version_minor": 0
      },
      "text/plain": [
       "Validation: |          | 0/? [00:00<?, ?it/s]"
      ]
     },
     "metadata": {},
     "output_type": "display_data"
    },
    {
     "data": {
      "application/vnd.jupyter.widget-view+json": {
       "model_id": "59de073927dd476491c14ad9a83cb632",
       "version_major": 2,
       "version_minor": 0
      },
      "text/plain": [
       "Validation: |          | 0/? [00:00<?, ?it/s]"
      ]
     },
     "metadata": {},
     "output_type": "display_data"
    },
    {
     "data": {
      "application/vnd.jupyter.widget-view+json": {
       "model_id": "b37448d95a0e4135be96d799a4e3ca4a",
       "version_major": 2,
       "version_minor": 0
      },
      "text/plain": [
       "Validation: |          | 0/? [00:00<?, ?it/s]"
      ]
     },
     "metadata": {},
     "output_type": "display_data"
    },
    {
     "data": {
      "application/vnd.jupyter.widget-view+json": {
       "model_id": "c3a02bf9a0c04e6294dbca1b9e4eb8b9",
       "version_major": 2,
       "version_minor": 0
      },
      "text/plain": [
       "Validation: |          | 0/? [00:00<?, ?it/s]"
      ]
     },
     "metadata": {},
     "output_type": "display_data"
    },
    {
     "name": "stderr",
     "output_type": "stream",
     "text": [
      "`Trainer.fit` stopped: `max_epochs=10` reached.\n"
     ]
    }
   ],
   "source": [
    "from torch.utils.data import DataLoader, TensorDataset\n",
    "\n",
    "# Convert data to PyTorch tensors\n",
    "features_train_tensor = torch.tensor(features_train.values, dtype=torch.float32)\n",
    "target_train_tensor = torch.tensor(target_train.values, dtype=torch.float32)\n",
    "\n",
    "# Create a DataLoader\n",
    "train_data = TensorDataset(features_train_tensor, target_train_tensor)\n",
    "train_loader = DataLoader(train_data, batch_size=32)\n",
    "\n",
    "# Convert validation data to PyTorch tensors\n",
    "features_val_tensor = torch.tensor(features_val.values, dtype=torch.float32)\n",
    "target_val_tensor = torch.tensor(target_val.values, dtype=torch.float32)\n",
    "\n",
    "# Create a DataLoader for the validation data\n",
    "val_data = TensorDataset(features_val_tensor, target_val_tensor)\n",
    "val_loader = DataLoader(val_data, batch_size=32)\n",
    "\n",
    "# Train the model\n",
    "model = FeedForwardNN(features_train.shape[1], 1)\n",
    "trainer = pl.Trainer(max_epochs=10)\n",
    "trainer.fit(model, train_loader, val_loader)\n"
   ]
  },
  {
   "cell_type": "code",
   "execution_count": 9,
   "metadata": {},
   "outputs": [],
   "source": [
    "torch.save(model.state_dict(), './saved_models/ffnn_model.pth')\n"
   ]
  },
  {
   "cell_type": "code",
   "execution_count": null,
   "metadata": {},
   "outputs": [],
   "source": []
  }
 ],
 "metadata": {
  "kernelspec": {
   "display_name": "Python 3",
   "language": "python",
   "name": "python3"
  },
  "language_info": {
   "codemirror_mode": {
    "name": "ipython",
    "version": 3
   },
   "file_extension": ".py",
   "mimetype": "text/x-python",
   "name": "python",
   "nbconvert_exporter": "python",
   "pygments_lexer": "ipython3",
   "version": "3.9.16"
  }
 },
 "nbformat": 4,
 "nbformat_minor": 2
}
